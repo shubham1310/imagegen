{
 "cells": [
  {
   "cell_type": "code",
   "execution_count": 1,
   "metadata": {},
   "outputs": [],
   "source": [
    "%matplotlib inline\n",
    "from pycocotools.coco import COCO\n",
    "import numpy as np\n",
    "import skimage.io as io\n",
    "import matplotlib.pyplot as plt\n",
    "import pylab\n",
    "import pycocotools.mask as maskapi\n",
    "import pickle\n",
    "import random\n",
    "from PIL import Image\n",
    "import scipy.misc\n",
    "import os\n",
    "random.seed(24)"
   ]
  },
  {
   "cell_type": "code",
   "execution_count": 2,
   "metadata": {},
   "outputs": [],
   "source": [
    "dataDir='../coco/'\n",
    "dataType='train2017'\n",
    "annFile='{}/annotations/instances_{}.json'.format(dataDir,dataType)"
   ]
  },
  {
   "cell_type": "code",
   "execution_count": 3,
   "metadata": {},
   "outputs": [
    {
     "name": "stdout",
     "output_type": "stream",
     "text": [
      "loading annotations into memory...\n",
      "Done (t=33.05s)\n",
      "creating index...\n",
      "index created!\n",
      "118287\n"
     ]
    }
   ],
   "source": [
    "# initialize COCO api for instance annotations\n",
    "coco=COCO(annFile)"
   ]
  },
  {
   "cell_type": "code",
   "execution_count": 4,
   "metadata": {},
   "outputs": [
    {
     "name": "stdout",
     "output_type": "stream",
     "text": [
      "COCO categories: \n",
      "person bicycle car motorcycle airplane bus train truck boat traffic light fire hydrant stop sign parking meter bench bird cat dog horse sheep cow elephant bear zebra giraffe backpack umbrella handbag tie suitcase frisbee skis snowboard sports ball kite baseball bat baseball glove skateboard surfboard tennis racket bottle wine glass cup fork knife spoon bowl banana apple sandwich orange broccoli carrot hot dog pizza donut cake chair couch potted plant bed dining table toilet tv laptop mouse remote keyboard cell phone microwave oven toaster sink refrigerator book clock vase scissors teddy bear hair drier toothbrush\n",
      "\n"
     ]
    }
   ],
   "source": [
    "cats = coco.loadCats(coco.getCatIds())\n",
    "nms=[cat['name'] for cat in cats]\n",
    "print('COCO categories: \\n{}\\n'.format(' '.join(nms)))"
   ]
  },
  {
   "cell_type": "code",
   "execution_count": 5,
   "metadata": {},
   "outputs": [
    {
     "name": "stdout",
     "output_type": "stream",
     "text": [
      "64115\n",
      "[36, 49, 61, 74, 77, 86, 109, 110, 113, 127]\n"
     ]
    }
   ],
   "source": [
    "# get all images containing person,\n",
    "catIds = coco.getCatIds(catNms=['person']);\n",
    "imgIds = coco.getImgIds(catIds=catIds );\n",
    "imgIds.sort()\n",
    "print len(imgIds)\n",
    "print imgIds[:10]"
   ]
  },
  {
   "cell_type": "code",
   "execution_count": 6,
   "metadata": {
    "scrolled": true
   },
   "outputs": [],
   "source": [
    "def get_mask(imgId, idx=0):\n",
    "    \"\"\"Get mask for idx'th person in this imgId.\"\"\"\n",
    "    img = coco.loadImgs(imgId)[0]\n",
    "    filename=\"%012d.jpg\"%imgId\n",
    "    I = io.imread(dataDir + 'images/' + dataType +'/'+filename) #I = io.imread(img['coco_url'])\n",
    "    # plt.imshow(I); plt.axis('off')\n",
    "\n",
    "    annIds = coco.getAnnIds(imgIds=img['id'], catIds=catIds, iscrowd=False)\n",
    "    anns = coco.loadAnns(annIds)\n",
    "    if idx >= len(anns):\n",
    "        return None, None\n",
    "\n",
    "    ann = anns[idx]\n",
    "    bb = ann['bbox']\n",
    "    x1, x2, y1, y2 = [int(bb[0]), int(bb[0]+bb[2]), int(bb[1]), int(bb[1]+bb[3])]\n",
    "\n",
    "    mask=coco.annToMask(ann)\n",
    "    \n",
    "    if len(I.shape) < 3:\n",
    "        # Let's not worry about black and white images.\n",
    "        return None, None\n",
    "    img = I[y1:y2, x1:x2, :]\n",
    "    mask = np.array(mask[y1:y2, x1:x2])\n",
    "    return img, mask \n",
    "\n",
    "def get_iou(mask1, mask2):\n",
    "    \"\"\"Get IOU of two binary segmentation masks.\"\"\"\n",
    "    rle1 = maskapi.encode(np.asfortranarray(mask1))\n",
    "    rle2 = maskapi.encode(np.asfortranarray(mask2))\n",
    "    return maskapi.iou([rle1], [rle2], [0])[0, 0]\n",
    "\n",
    "def show_im_and_mask(img, mask):\n",
    "    \"\"\"Display image and mask.\"\"\"\n",
    "    plt.figure()\n",
    "\n",
    "    plt.subplot(1, 2, 1)\n",
    "    plt.imshow(img)\n",
    "\n",
    "    plt.subplot(1, 2, 2)\n",
    "    plt.imshow(mask)\n",
    "    plt.show()"
   ]
  },
  {
   "cell_type": "code",
   "execution_count": 7,
   "metadata": {},
   "outputs": [],
   "source": [
    "def get_max_iou(refImgId, refPersonId, personImgIds, numMatches=10):\n",
    "    \"\"\"Find the person boxes with best iou with reference imgId and personId.\"\"\"\n",
    "    ref_img, ref_mask = get_mask(refImgId, refPersonId)\n",
    "    ref_h, ref_w, _ = ref_img.shape\n",
    "\n",
    "    ious = []\n",
    "    for idx, imgId in enumerate(personImgIds):\n",
    "        if idx % 1000 == 0:\n",
    "            print '%d/%d' % (idx, len(personImgIds))\n",
    "        if imgId == refImgId:\n",
    "            continue\n",
    "        # Go over all persons in this image.\n",
    "        personId = 0\n",
    "        while True:\n",
    "            img, mask = get_mask(imgId, personId)\n",
    "            if img is None:\n",
    "                # Out of persons in this image.\n",
    "                break\n",
    "            # Continue on to next person if size difference is too high.\n",
    "            # Note: replace this with an input threshold.\n",
    "            h, w, _ = img.shape\n",
    "            if h < 0.9 * ref_h or h > 1.1 * ref_h or w < 0.9 * ref_w or w > 1.1 * ref_w:\n",
    "                personId += 1\n",
    "                continue\n",
    "                \n",
    "            # Find the iou with reference.\n",
    "            mask = Image.fromarray(mask)\n",
    "            mask = np.array(mask.resize((ref_w, ref_h), resample=Image.NEAREST), dtype=np.uint8)\n",
    "\n",
    "            # show_im_and_mask(mask, ref_mask)\n",
    "            iou = get_iou(ref_mask, mask)\n",
    "            ious.append((imgId, personId, iou))\n",
    "            personId += 1  # Go to next person id.\n",
    "    \n",
    "    # Get a list of top matches.\n",
    "    ious = sorted(ious, key=lambda x: x[2], reverse=True)\n",
    "    ious = ious[:numMatches]\n",
    "\n",
    "    # Create a list of top match imgs and masks.\n",
    "    matches = []\n",
    "    for imgId, personId, iou in ious:\n",
    "        img, mask = get_mask(imgId, personId)\n",
    "        img, mask = Image.fromarray(img), Image.fromarray(mask)\n",
    "        img = np.array(img.resize((ref_w, ref_h)))\n",
    "        mask = np.array(mask.resize((ref_w, ref_h)))\n",
    "        matches.append({\n",
    "            'imgId': imgId,\n",
    "            'personId': personId,\n",
    "            'iou': iou,\n",
    "            'img': img, \n",
    "            'mask': mask,\n",
    "        })\n",
    "\n",
    "    return matches, ref_img, ref_mask"
   ]
  },
  {
   "cell_type": "code",
   "execution_count": 8,
   "metadata": {},
   "outputs": [],
   "source": [
    "def get_image(imgId, idx=0):\n",
    "    \"\"\"Get mask for idx'th person in this imgId.\"\"\"\n",
    "    img = coco.loadImgs(imgId)[0]\n",
    "    filename=\"%012d.jpg\"%imgId\n",
    "    I = io.imread(dataDir + 'images/' + dataType +'/'+filename) \n",
    "\n",
    "    annIds = coco.getAnnIds(imgIds=img['id'], catIds=catIds, iscrowd=False)\n",
    "    anns = coco.loadAnns(annIds)\n",
    "    if idx >= len(anns):\n",
    "        return None, None\n",
    "\n",
    "    ann = anns[idx]\n",
    "    mask=coco.annToMask(ann)\n",
    "    if len(I.shape) < 3:\n",
    "        # Let's not worry about black and white images.\n",
    "        return None, None\n",
    "    return I, mask \n",
    "\n",
    "def isrgb(imgId):\n",
    "    img = coco.loadImgs(imgId)[0]\n",
    "    filename=\"%012d.jpg\"%imgId\n",
    "    I = io.imread(dataDir + 'images/' + dataType +'/'+filename) \n",
    "    if len(I.shape) < 3:\n",
    "        return 0\n",
    "    return 1\n",
    "\n",
    "\n",
    "def cutpaste(refImgId, refPersonId, target, mask):\n",
    "    ref_img, ref_mask = get_mask(refImgId, refPersonId)\n",
    "\n",
    "    img = coco.loadImgs(refImgId)[0]\n",
    "    filename=\"%012d.jpg\"%refImgId\n",
    "    I = io.imread(dataDir + 'images/' + dataType +'/'+filename) \n",
    "    \n",
    "    annIds = coco.getAnnIds(imgIds=img['id'], catIds=catIds, iscrowd=False)\n",
    "    anns = coco.loadAnns(annIds)\n",
    "\n",
    "    ann = anns[refPersonId]\n",
    "    bb = ann['bbox']\n",
    "    x1, x2, y1, y2 = [int(bb[0]), int(bb[0]+bb[2]), int(bb[1]), int(bb[1]+bb[3])]\n",
    "    \n",
    "    img = I[y1:y2, x1:x2, :]\n",
    "    mask = np.swapaxes(np.swapaxes(np.array([mask,mask,mask]),0,1),1,2)\n",
    "    \n",
    "    I[y1:y2, x1:x2, :] = np.multiply(target,mask) + np.multiply(I[y1:y2, x1:x2, :],1-mask)\n",
    "    return I"
   ]
  },
  {
   "cell_type": "code",
   "execution_count": null,
   "metadata": {
    "scrolled": true
   },
   "outputs": [],
   "source": [
    "catIds = coco.getCatIds(catNms=['person']);\n",
    "imgIds = coco.getImgIds(catIds=catIds);\n",
    "imgIds = imgIds[:1000]\n",
    "\n",
    "for imgId in imgIds[:2]:\n",
    "    personId = 0\n",
    "    matches, ref_img, ref_mask = get_max_iou(imgId, personId, imgIds, 10)\n",
    "\n",
    "    print 'Reference person:'\n",
    "    show_im_and_mask(ref_img, ref_mask)\n",
    "    print '-' * 40\n",
    "    mainimg,_ = get_image(imgId, personId)\n",
    "    if not os.path.exists('./maskdata/'+str(imgId)):\n",
    "        os.makedirs('./maskdata/'+str(imgId))\n",
    "    scipy.misc.imsave('./maskdata/'+str(imgId)+'/main'+'.jpg', mainimg)\n",
    "\n",
    "    for idx, match in enumerate(matches):\n",
    "        print 'Rank: %d, iou: %.2f' % (idx + 1, match['iou'])\n",
    "        show_im_and_mask(match['img'], match['mask'])\n",
    "        final=cutpaste(imgId, personId, match['img'], match['mask'])\n",
    "        plt.figure()3\n",
    "        plt.imshow(final)\n",
    "        scipy.misc.imsave('./maskdata/'+str(imgId)+'/'+str(idx)+'.jpg', final)\n",
    "        print '-' * 40"
   ]
  },
  {
   "cell_type": "code",
   "execution_count": null,
   "metadata": {},
   "outputs": [],
   "source": [
    "imgId, personId = imgIds[40], 0\n",
    "print imgId\n",
    "mainimg, mainmask = get_image(imgId, personId)\n",
    "print type(mainimg)\n",
    "img = coco.loadImgs(imgId)[0]\n",
    "filename=\"%012d.jpg\"%imgId\n",
    "I = io.imread(dataDir + 'images/' + dataType +'/'+filename) \n",
    "plt.figure()\n",
    "plt.imshow(I)\n",
    "annIds = coco.getAnnIds(imgIds=img['id'], catIds=catIds, iscrowd=False)\n",
    "anns = coco.loadAnns(annIds)\n",
    "print len(anns)\n",
    "ann = anns[personId]\n",
    "mask=coco.annToMask(ann)\n",
    "plt.figure()\n",
    "plt.imshow(mask)\n",
    "print len(I.shape)\n",
    "print 'Main Image:'\n",
    "#show_im_and_mask(mainimg, mainmask)\n",
    "print '-' * 40"
   ]
  },
  {
   "cell_type": "code",
   "execution_count": null,
   "metadata": {
    "scrolled": false
   },
   "outputs": [],
   "source": [
    "catIds = coco.getCatIds(catNms=['person']);\n",
    "imgIds = coco.getImgIds(catIds=catIds);\n",
    "imgIds = imgIds[:10000]\n",
    "\n",
    "for imgId in imgIds:\n",
    "    personId = 0\n",
    "    print(isrgb(imgId))\n",
    "    if isrgb(imgId)==0:\n",
    "        continue\n",
    "    print(imgId)\n",
    "    matches, ref_img, ref_mask = get_max_iou(imgId, personId, imgIds, 10)\n",
    "\n",
    "    print 'Reference person:'\n",
    "    #show_im_and_mask(ref_img, ref_mask)\n",
    "    print '-' * 40\n",
    "    mainimg,_ = get_image(imgId, personId)\n",
    "#     if not os.path.exists('./maskdata/'+str(imgId)):\n",
    "#         os.makedirs('./maskdata/'+str(imgId))\n",
    "    scipy.misc.imsave('./maskdata/real/'+str(imgId)+'.jpg', mainimg)\n",
    "\n",
    "    for idx, match in enumerate(matches):\n",
    "        print 'Rank: %d, iou: %.2f' % (idx + 1, match['iou'])\n",
    "        #show_im_and_mask(match['img'], match['mask'])\n",
    "        final=cutpaste(imgId, personId, match['img'], match['mask'])\n",
    "        #plt.figure()\n",
    "        #plt.imshow(final)\n",
    "        scipy.misc.imsave('./maskdata/fake/'+str(imgId)+'_'+str(idx)+'.jpg', final)\n",
    "        #print '-' * 40"
   ]
  },
  {
   "cell_type": "code",
   "execution_count": null,
   "metadata": {},
   "outputs": [],
   "source": []
  }
 ],
 "metadata": {
  "kernelspec": {
   "display_name": "Python 2",
   "language": "python",
   "name": "python2"
  },
  "language_info": {
   "codemirror_mode": {
    "name": "ipython",
    "version": 2
   },
   "file_extension": ".py",
   "mimetype": "text/x-python",
   "name": "python",
   "nbconvert_exporter": "python",
   "pygments_lexer": "ipython2",
   "version": "2.7.5"
  }
 },
 "nbformat": 4,
 "nbformat_minor": 2
}
