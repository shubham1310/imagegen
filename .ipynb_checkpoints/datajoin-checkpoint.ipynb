{
 "cells": [
  {
   "cell_type": "code",
   "execution_count": 9,
   "metadata": {},
   "outputs": [],
   "source": [
    "%matplotlib inline\n",
    "from pycocotools.coco import COCO\n",
    "import numpy as np\n",
    "import skimage.io as io\n",
    "import matplotlib.pyplot as plt\n",
    "import pylab\n",
    "import pycocotools.mask as maskapi\n",
    "import pickle\n",
    "import random\n",
    "from PIL import Image\n",
    "import scipy.misc\n",
    "import os\n",
    "random.seed(234)"
   ]
  },
  {
   "cell_type": "code",
   "execution_count": 10,
   "metadata": {},
   "outputs": [],
   "source": [
    "datadir='./data/'\n",
    "target='./finaldata'\n",
    "if not os.path.exists(target):\n",
    "        os.makedirs(target)"
   ]
  },
  {
   "cell_type": "code",
   "execution_count": null,
   "metadata": {},
   "outputs": [
    {
     "name": "stderr",
     "output_type": "stream",
     "text": [
      "/home/nfs/shubham9/is/lib/python2.7/site-packages/matplotlib/pyplot.py:524: RuntimeWarning: More than 20 figures have been opened. Figures created through the pyplot interface (`matplotlib.pyplot.figure`) are retained until explicitly closed and may consume too much memory. (To control this warning, see the rcParam `figure.max_open_warning`).\n",
      "  max_open_warning, RuntimeWarning)\n"
     ]
    }
   ],
   "source": [
    "for fil in os.listdir(datadir):\n",
    "    imgdirectory=os.path.join(datadir,fil)\n",
    "    main=io.imread(os.path.join(imgdirectory,'main.jpg'))\n",
    "    for files in os.listdir(imgdirectory)[:1]:\n",
    "        if not(files=='main.jpg'):\n",
    "            img=io.imread(os.path.join(imgdirectory,files))\n",
    "            plt.figure()\n",
    "            plt.imshow(np.concatenate((main,img),axis=1))        \n",
    "\n",
    "        "
   ]
  },
  {
   "cell_type": "code",
   "execution_count": null,
   "metadata": {},
   "outputs": [],
   "source": [
    "#             r=np.concatenate((main[:,:,0],img[:,:,0]))\n",
    "#             g=np.concatenate((main[:,:,1],img[:,:,1]))\n",
    "#             b=np.concatenate((main[:,:,2],img[:,:,2]))\n",
    "#             a=np.swapaxes(np.swapaxes(np.array([r,b,g]),0,1),1,2)\n",
    "#             plt.figure()\n",
    "#             plt.imshow(a)\n",
    "#             break\n",
    "#         break\n",
    "        \n",
    "        "
   ]
  }
 ],
 "metadata": {
  "kernelspec": {
   "display_name": "Python 2",
   "language": "python",
   "name": "python2"
  },
  "language_info": {
   "codemirror_mode": {
    "name": "ipython",
    "version": 2
   },
   "file_extension": ".py",
   "mimetype": "text/x-python",
   "name": "python",
   "nbconvert_exporter": "python",
   "pygments_lexer": "ipython2",
   "version": "2.7.5"
  }
 },
 "nbformat": 4,
 "nbformat_minor": 2
}
